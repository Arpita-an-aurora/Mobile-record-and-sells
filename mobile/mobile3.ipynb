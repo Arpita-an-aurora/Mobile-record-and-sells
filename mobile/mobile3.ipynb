{
 "cells": [
  {
   "cell_type": "code",
   "execution_count": null,
   "metadata": {},
   "outputs": [
    {
     "name": "stdout",
     "output_type": "stream",
     "text": [
      "enter number11\n",
      "enter row index1\n",
      "enter limiting row index: 10\n",
      "enter column label: BRAND\n",
      "enter limiting column label: PRICE\n",
      "    BRAND             MODEL     REVIEW  RATINGS   PRICE\n",
      "1   apple          iphoneXR  very good      4.5   41699\n",
      "2   apple         iphone 6+       fair      4.5   18499\n",
      "3   apple         iphone 11  very good      4.6  40,999\n",
      "4   apple         iphone 12       good      4.6   53999\n",
      "5   apple      iphone12 pro       good      4.1  109900\n",
      "6   apple         iphone 13  very good      4.5   61999\n",
      "7   apple          iphone14  very good      4.6   67999\n",
      "8   apple  iphone14 pro max  very good      4.7  127999\n",
      "9   apple        iphone 14+  very good      4.7   78999\n",
      "10  apple          iphone X  very good      4.4   28999\n"
     ]
    }
   ],
   "source": [
    "import pandas as pd\n",
    "import numpy as np \n",
    "import matplotlib.pyplot as plt\n"
   ]
  },
  {
   "cell_type": "code",
   "execution_count": 1,
   "metadata": {},
   "outputs": [
    {
     "ename": "ModuleNotFoundError",
     "evalue": "No module named 'mysql'",
     "output_type": "error",
     "traceback": [
      "\u001b[1;31m---------------------------------------------------------------------------\u001b[0m",
      "\u001b[1;31mModuleNotFoundError\u001b[0m                       Traceback (most recent call last)",
      "Cell \u001b[1;32mIn[1], line 1\u001b[0m\n\u001b[1;32m----> 1\u001b[0m \u001b[38;5;28;01mimport\u001b[39;00m \u001b[38;5;21;01mmysql\u001b[39;00m\u001b[38;5;21;01m.\u001b[39;00m\u001b[38;5;21;01mconnector\u001b[39;00m \u001b[38;5;28;01mas\u001b[39;00m \u001b[38;5;21;01msqltor\u001b[39;00m\n\u001b[0;32m      2\u001b[0m mycon\u001b[38;5;241m=\u001b[39msqltor\u001b[38;5;241m.\u001b[39mconnect(host\u001b[38;5;241m=\u001b[39m\u001b[38;5;124m'\u001b[39m\u001b[38;5;124mlocalhost\u001b[39m\u001b[38;5;124m'\u001b[39m, user\u001b[38;5;241m=\u001b[39m\u001b[38;5;124m'\u001b[39m\u001b[38;5;124mroot\u001b[39m\u001b[38;5;124m'\u001b[39m, passwd\u001b[38;5;241m=\u001b[39m\u001b[38;5;124m'\u001b[39m\u001b[38;5;124marpita\u001b[39m\u001b[38;5;124m'\u001b[39m, database\u001b[38;5;241m=\u001b[39m\u001b[38;5;124m'\u001b[39m\u001b[38;5;124mproject\u001b[39m\u001b[38;5;124m'\u001b[39m)\n\u001b[0;32m      3\u001b[0m cur\u001b[38;5;241m=\u001b[39mmycon\u001b[38;5;241m.\u001b[39mcursor()\n",
      "\u001b[1;31mModuleNotFoundError\u001b[0m: No module named 'mysql'"
     ]
    }
   ],
   "source": [
    "import mysql.connector as sqltor\n",
    "mycon=sqltor.connect(host='localhost', user='root', passwd='arpita', database='project')\n",
    "cur=mycon.cursor()\n",
    "if mycon.is_connected:\n",
    "    print('ok')"
   ]
  },
  {
   "cell_type": "code",
   "execution_count": 2,
   "metadata": {},
   "outputs": [
    {
     "name": "stdout",
     "output_type": "stream",
     "text": [
      "Collecting mysql-connector-python\n",
      "  Downloading mysql_connector_python-8.1.0-cp310-cp310-win_amd64.whl (10.9 MB)\n",
      "     ---------------------------------------- 10.9/10.9 MB 5.5 MB/s eta 0:00:00\n",
      "Collecting protobuf<=4.21.12,>=4.21.1\n",
      "  Downloading protobuf-4.21.12-cp310-abi3-win_amd64.whl (527 kB)\n",
      "     -------------------------------------- 527.0/527.0 kB 6.6 MB/s eta 0:00:00\n",
      "Installing collected packages: protobuf, mysql-connector-python\n",
      "Successfully installed mysql-connector-python-8.1.0 protobuf-4.21.12\n",
      "Note: you may need to restart the kernel to use updated packages.\n"
     ]
    }
   ],
   "source": [
    "pip install mysql-connector-python\n"
   ]
  },
  {
   "cell_type": "code",
   "execution_count": 3,
   "metadata": {},
   "outputs": [
    {
     "name": "stdout",
     "output_type": "stream",
     "text": [
      "ok\n"
     ]
    }
   ],
   "source": [
    "import mysql.connector as sqltor\n",
    "mycon=sqltor.connect(host='localhost', user='root', passwd='arpita', database='project')\n",
    "cur=mycon.cursor()\n",
    "if mycon.is_connected:\n",
    "    print('ok')  "
   ]
  },
  {
   "cell_type": "code",
   "execution_count": 4,
   "metadata": {
    "scrolled": false
   },
   "outputs": [
    {
     "name": "stdout",
     "output_type": "stream",
     "text": [
      "     SR_NO  BRAND                   MODEL     REVIEW  RATINGS  PRICE  CAMERA  \\\n",
      "0        1  apple                iphoneGS       good      4.5  12560       3   \n",
      "1        2  apple                iphoneXR  very good      4.5  41699      12   \n",
      "2        3  apple               iphone 6+       fair      4.5  18499       8   \n",
      "3        4  apple               iphone 11  very good      4.6  40999      12   \n",
      "4        5  apple               iphone 12       good      4.6  53999      12   \n",
      "..     ...    ...                     ...        ...      ...    ...     ...   \n",
      "192    193    zte           axon 50 ultra       good      4.0  69990      64   \n",
      "193    194    zte         nubia Z50 ultra       fair      3.4  47290      64   \n",
      "194    195    zte               blade V40       good      3.9  15990      48   \n",
      "195    196    zte  nubia red magic 8 pro+       good      4.3  61647      50   \n",
      "196    197    zte          blade v41 vita       good      4.0  20999      50   \n",
      "\n",
      "    DISPLAY  DISPLAY SIZE  STORAGE   RAM         OS        COLOUR  BATTERY  \\\n",
      "0       LCD          3.50     32.0   8.0   ios6.1.3         black   1400.0   \n",
      "1       LCD          6.06     64.0   3.0        ios          blue   2942.0   \n",
      "2       LCD          4.70     64.0   1.0       ios8          grey   1810.0   \n",
      "3       LCD          6.10     64.0   4.0      iod13        purple   3110.0   \n",
      "4      OLED          6.10     64.0   4.0     ios 14        purple   2815.0   \n",
      "..      ...           ...      ...   ...        ...           ...      ...   \n",
      "192  AMOLED          6.67    256.0  12.0  android12         black   5000.0   \n",
      "193  AMOLED          6.80    256.0   8.0  android13    starry sky   5000.0   \n",
      "194  AMOLED          6.67    256.0   6.0  android12          blue   6000.0   \n",
      "195  AMOLED          6.80    128.0  12.0  android13   transparent   5000.0   \n",
      "196  AMOLED          6.60    128.0   6.0  android12  starry night   4500.0   \n",
      "\n",
      "      ORIGIN  \n",
      "0    Germany  \n",
      "1     Taiwan  \n",
      "2      India  \n",
      "3      India  \n",
      "4         US  \n",
      "..       ...  \n",
      "192    China  \n",
      "193    China  \n",
      "194    China  \n",
      "195    China  \n",
      "196    China  \n",
      "\n",
      "[197 rows x 15 columns]\n",
      "197\n",
      "[1, 'apple', 'iphoneGS', 'good', 4.5, 12560.0, 3, 'LCD', 3.5, 32.0, 8.0, 'ios6.1.3', 'black', 1400.0, 'Germany']\n"
     ]
    },
    {
     "ename": "IntegrityError",
     "evalue": "1062 (23000): Duplicate entry '1' for key 'mobile.PRIMARY'",
     "output_type": "error",
     "traceback": [
      "\u001b[1;31m---------------------------------------------------------------------------\u001b[0m",
      "\u001b[1;31mMySQLInterfaceError\u001b[0m                       Traceback (most recent call last)",
      "File \u001b[1;32m~\\anaconda3\\lib\\site-packages\\mysql\\connector\\connection_cext.py:633\u001b[0m, in \u001b[0;36mCMySQLConnection.cmd_query\u001b[1;34m(self, query, raw, buffered, raw_as_string)\u001b[0m\n\u001b[0;32m    632\u001b[0m         query \u001b[38;5;241m=\u001b[39m query\u001b[38;5;241m.\u001b[39mencode(\u001b[38;5;124m\"\u001b[39m\u001b[38;5;124mutf-8\u001b[39m\u001b[38;5;124m\"\u001b[39m)\n\u001b[1;32m--> 633\u001b[0m     \u001b[38;5;28;43mself\u001b[39;49m\u001b[38;5;241;43m.\u001b[39;49m\u001b[43m_cmysql\u001b[49m\u001b[38;5;241;43m.\u001b[39;49m\u001b[43mquery\u001b[49m\u001b[43m(\u001b[49m\n\u001b[0;32m    634\u001b[0m \u001b[43m        \u001b[49m\u001b[43mquery\u001b[49m\u001b[43m,\u001b[49m\n\u001b[0;32m    635\u001b[0m \u001b[43m        \u001b[49m\u001b[43mraw\u001b[49m\u001b[38;5;241;43m=\u001b[39;49m\u001b[43mraw\u001b[49m\u001b[43m,\u001b[49m\n\u001b[0;32m    636\u001b[0m \u001b[43m        \u001b[49m\u001b[43mbuffered\u001b[49m\u001b[38;5;241;43m=\u001b[39;49m\u001b[43mbuffered\u001b[49m\u001b[43m,\u001b[49m\n\u001b[0;32m    637\u001b[0m \u001b[43m        \u001b[49m\u001b[43mraw_as_string\u001b[49m\u001b[38;5;241;43m=\u001b[39;49m\u001b[43mraw_as_string\u001b[49m\u001b[43m,\u001b[49m\n\u001b[0;32m    638\u001b[0m \u001b[43m        \u001b[49m\u001b[43mquery_attrs\u001b[49m\u001b[38;5;241;43m=\u001b[39;49m\u001b[38;5;28;43mself\u001b[39;49m\u001b[38;5;241;43m.\u001b[39;49m\u001b[43mquery_attrs\u001b[49m\u001b[43m,\u001b[49m\n\u001b[0;32m    639\u001b[0m \u001b[43m    \u001b[49m\u001b[43m)\u001b[49m\n\u001b[0;32m    640\u001b[0m \u001b[38;5;28;01mexcept\u001b[39;00m MySQLInterfaceError \u001b[38;5;28;01mas\u001b[39;00m err:\n",
      "\u001b[1;31mMySQLInterfaceError\u001b[0m: Duplicate entry '1' for key 'mobile.PRIMARY'",
      "\nThe above exception was the direct cause of the following exception:\n",
      "\u001b[1;31mIntegrityError\u001b[0m                            Traceback (most recent call last)",
      "Cell \u001b[1;32mIn[4], line 16\u001b[0m\n\u001b[0;32m     14\u001b[0m \u001b[38;5;28mprint\u001b[39m(val)\n\u001b[0;32m     15\u001b[0m query\u001b[38;5;241m=\u001b[39m\u001b[38;5;124m'\u001b[39m\u001b[38;5;124minsert into mobile values(\u001b[39m\u001b[38;5;132;01m%s\u001b[39;00m\u001b[38;5;124m,\u001b[39m\u001b[38;5;132;01m%s\u001b[39;00m\u001b[38;5;124m,\u001b[39m\u001b[38;5;132;01m%s\u001b[39;00m\u001b[38;5;124m,\u001b[39m\u001b[38;5;132;01m%s\u001b[39;00m\u001b[38;5;124m,\u001b[39m\u001b[38;5;132;01m%s\u001b[39;00m\u001b[38;5;124m,\u001b[39m\u001b[38;5;132;01m%s\u001b[39;00m\u001b[38;5;124m,\u001b[39m\u001b[38;5;132;01m%s\u001b[39;00m\u001b[38;5;124m,\u001b[39m\u001b[38;5;132;01m%s\u001b[39;00m\u001b[38;5;124m,\u001b[39m\u001b[38;5;132;01m%s\u001b[39;00m\u001b[38;5;124m,\u001b[39m\u001b[38;5;132;01m%s\u001b[39;00m\u001b[38;5;124m,\u001b[39m\u001b[38;5;132;01m%s\u001b[39;00m\u001b[38;5;124m,\u001b[39m\u001b[38;5;132;01m%s\u001b[39;00m\u001b[38;5;124m,\u001b[39m\u001b[38;5;132;01m%s\u001b[39;00m\u001b[38;5;124m,\u001b[39m\u001b[38;5;132;01m%s\u001b[39;00m\u001b[38;5;124m,\u001b[39m\u001b[38;5;132;01m%s\u001b[39;00m\u001b[38;5;124m)\u001b[39m\u001b[38;5;124m'\u001b[39m\n\u001b[1;32m---> 16\u001b[0m \u001b[43mcursor\u001b[49m\u001b[38;5;241;43m.\u001b[39;49m\u001b[43mexecute\u001b[49m\u001b[43m(\u001b[49m\u001b[43mquery\u001b[49m\u001b[43m,\u001b[49m\u001b[43mval\u001b[49m\u001b[43m)\u001b[49m\n\u001b[0;32m     17\u001b[0m con\u001b[38;5;241m.\u001b[39mcommit()\n",
      "File \u001b[1;32m~\\anaconda3\\lib\\site-packages\\mysql\\connector\\cursor_cext.py:330\u001b[0m, in \u001b[0;36mCMySQLCursor.execute\u001b[1;34m(self, operation, params, multi)\u001b[0m\n\u001b[0;32m    325\u001b[0m             \u001b[38;5;28;01mraise\u001b[39;00m ProgrammingError(\n\u001b[0;32m    326\u001b[0m                 \u001b[38;5;124m\"\u001b[39m\u001b[38;5;124mNot all parameters were used in the SQL statement\u001b[39m\u001b[38;5;124m\"\u001b[39m\n\u001b[0;32m    327\u001b[0m             )\n\u001b[0;32m    329\u001b[0m \u001b[38;5;28;01mtry\u001b[39;00m:\n\u001b[1;32m--> 330\u001b[0m     result \u001b[38;5;241m=\u001b[39m \u001b[38;5;28;43mself\u001b[39;49m\u001b[38;5;241;43m.\u001b[39;49m\u001b[43m_cnx\u001b[49m\u001b[38;5;241;43m.\u001b[39;49m\u001b[43mcmd_query\u001b[49m\u001b[43m(\u001b[49m\n\u001b[0;32m    331\u001b[0m \u001b[43m        \u001b[49m\u001b[43mstmt\u001b[49m\u001b[43m,\u001b[49m\n\u001b[0;32m    332\u001b[0m \u001b[43m        \u001b[49m\u001b[43mraw\u001b[49m\u001b[38;5;241;43m=\u001b[39;49m\u001b[38;5;28;43mself\u001b[39;49m\u001b[38;5;241;43m.\u001b[39;49m\u001b[43m_raw\u001b[49m\u001b[43m,\u001b[49m\n\u001b[0;32m    333\u001b[0m \u001b[43m        \u001b[49m\u001b[43mbuffered\u001b[49m\u001b[38;5;241;43m=\u001b[39;49m\u001b[38;5;28;43mself\u001b[39;49m\u001b[38;5;241;43m.\u001b[39;49m\u001b[43m_buffered\u001b[49m\u001b[43m,\u001b[49m\n\u001b[0;32m    334\u001b[0m \u001b[43m        \u001b[49m\u001b[43mraw_as_string\u001b[49m\u001b[38;5;241;43m=\u001b[39;49m\u001b[38;5;28;43mself\u001b[39;49m\u001b[38;5;241;43m.\u001b[39;49m\u001b[43m_raw_as_string\u001b[49m\u001b[43m,\u001b[49m\n\u001b[0;32m    335\u001b[0m \u001b[43m    \u001b[49m\u001b[43m)\u001b[49m\n\u001b[0;32m    336\u001b[0m \u001b[38;5;28;01mexcept\u001b[39;00m MySQLInterfaceError \u001b[38;5;28;01mas\u001b[39;00m err:\n\u001b[0;32m    337\u001b[0m     \u001b[38;5;28;01mraise\u001b[39;00m get_mysql_exception(\n\u001b[0;32m    338\u001b[0m         msg\u001b[38;5;241m=\u001b[39merr\u001b[38;5;241m.\u001b[39mmsg, errno\u001b[38;5;241m=\u001b[39merr\u001b[38;5;241m.\u001b[39merrno, sqlstate\u001b[38;5;241m=\u001b[39merr\u001b[38;5;241m.\u001b[39msqlstate\n\u001b[0;32m    339\u001b[0m     ) \u001b[38;5;28;01mfrom\u001b[39;00m \u001b[38;5;21;01merr\u001b[39;00m\n",
      "File \u001b[1;32m~\\anaconda3\\lib\\site-packages\\mysql\\connector\\opentelemetry\\context_propagation.py:77\u001b[0m, in \u001b[0;36mwith_context_propagation.<locals>.wrapper\u001b[1;34m(cnx, *args, **kwargs)\u001b[0m\n\u001b[0;32m     75\u001b[0m \u001b[38;5;124;03m\"\"\"Context propagation decorator.\"\"\"\u001b[39;00m\n\u001b[0;32m     76\u001b[0m \u001b[38;5;28;01mif\u001b[39;00m \u001b[38;5;129;01mnot\u001b[39;00m OTEL_ENABLED \u001b[38;5;129;01mor\u001b[39;00m \u001b[38;5;129;01mnot\u001b[39;00m cnx\u001b[38;5;241m.\u001b[39motel_context_propagation:\n\u001b[1;32m---> 77\u001b[0m     \u001b[38;5;28;01mreturn\u001b[39;00m method(cnx, \u001b[38;5;241m*\u001b[39margs, \u001b[38;5;241m*\u001b[39m\u001b[38;5;241m*\u001b[39mkwargs)\n\u001b[0;32m     79\u001b[0m current_span \u001b[38;5;241m=\u001b[39m trace\u001b[38;5;241m.\u001b[39mget_current_span()\n\u001b[0;32m     80\u001b[0m tp_header \u001b[38;5;241m=\u001b[39m \u001b[38;5;28;01mNone\u001b[39;00m\n",
      "File \u001b[1;32m~\\anaconda3\\lib\\site-packages\\mysql\\connector\\connection_cext.py:641\u001b[0m, in \u001b[0;36mCMySQLConnection.cmd_query\u001b[1;34m(self, query, raw, buffered, raw_as_string)\u001b[0m\n\u001b[0;32m    633\u001b[0m     \u001b[38;5;28mself\u001b[39m\u001b[38;5;241m.\u001b[39m_cmysql\u001b[38;5;241m.\u001b[39mquery(\n\u001b[0;32m    634\u001b[0m         query,\n\u001b[0;32m    635\u001b[0m         raw\u001b[38;5;241m=\u001b[39mraw,\n\u001b[1;32m   (...)\u001b[0m\n\u001b[0;32m    638\u001b[0m         query_attrs\u001b[38;5;241m=\u001b[39m\u001b[38;5;28mself\u001b[39m\u001b[38;5;241m.\u001b[39mquery_attrs,\n\u001b[0;32m    639\u001b[0m     )\n\u001b[0;32m    640\u001b[0m \u001b[38;5;28;01mexcept\u001b[39;00m MySQLInterfaceError \u001b[38;5;28;01mas\u001b[39;00m err:\n\u001b[1;32m--> 641\u001b[0m     \u001b[38;5;28;01mraise\u001b[39;00m get_mysql_exception(\n\u001b[0;32m    642\u001b[0m         err\u001b[38;5;241m.\u001b[39merrno, msg\u001b[38;5;241m=\u001b[39merr\u001b[38;5;241m.\u001b[39mmsg, sqlstate\u001b[38;5;241m=\u001b[39merr\u001b[38;5;241m.\u001b[39msqlstate\n\u001b[0;32m    643\u001b[0m     ) \u001b[38;5;28;01mfrom\u001b[39;00m \u001b[38;5;21;01merr\u001b[39;00m\n\u001b[0;32m    644\u001b[0m \u001b[38;5;28;01mexcept\u001b[39;00m \u001b[38;5;167;01mAttributeError\u001b[39;00m \u001b[38;5;28;01mas\u001b[39;00m err:\n\u001b[0;32m    645\u001b[0m     addr \u001b[38;5;241m=\u001b[39m (\n\u001b[0;32m    646\u001b[0m         \u001b[38;5;28mself\u001b[39m\u001b[38;5;241m.\u001b[39m_unix_socket \u001b[38;5;28;01mif\u001b[39;00m \u001b[38;5;28mself\u001b[39m\u001b[38;5;241m.\u001b[39m_unix_socket \u001b[38;5;28;01melse\u001b[39;00m \u001b[38;5;124mf\u001b[39m\u001b[38;5;124m\"\u001b[39m\u001b[38;5;132;01m{\u001b[39;00m\u001b[38;5;28mself\u001b[39m\u001b[38;5;241m.\u001b[39m_host\u001b[38;5;132;01m}\u001b[39;00m\u001b[38;5;124m:\u001b[39m\u001b[38;5;132;01m{\u001b[39;00m\u001b[38;5;28mself\u001b[39m\u001b[38;5;241m.\u001b[39m_port\u001b[38;5;132;01m}\u001b[39;00m\u001b[38;5;124m\"\u001b[39m\n\u001b[0;32m    647\u001b[0m     )\n",
      "\u001b[1;31mIntegrityError\u001b[0m: 1062 (23000): Duplicate entry '1' for key 'mobile.PRIMARY'"
     ]
    }
   ],
   "source": [
    "#connectivity\n",
    "import pandas as pd \n",
    "import matplotlib.pyplot as plt\n",
    "import mysql.connector as sqltor\n",
    "import numpy as np\n",
    "con=sqltor.connect(host='localhost', user='root', passwd='arpita', database='project')\n",
    "mobile=pd.read_csv('C:\\\\Users\\\\arpit_72tw24v\\\\OneDrive\\\\Documents\\\\mobile.csv')\n",
    "print(mobile)\n",
    "l=mobile.BRAND.count()\n",
    "print(l)\n",
    "cursor=con.cursor()\n",
    "for i in range(0,l):\n",
    "    val=[int(mobile.loc[i,'SR_NO']),mobile.loc[i,'BRAND'],mobile.loc[i,'MODEL'],mobile.loc[i,'REVIEW'],float(mobile.loc[i,'RATINGS']),float(mobile.loc[i,'PRICE']),int(mobile.loc[i,'CAMERA']),mobile.loc[i,'DISPLAY'],float(mobile.loc[i,'DISPLAY SIZE']),float(mobile.loc[i,'STORAGE']),float(mobile.loc[i,'RAM']),mobile.loc[i,'OS'],mobile.loc[i,'COLOUR'],float(mobile.loc[i,'BATTERY']),mobile.loc[i,'ORIGIN']]\n",
    "    print(val)\n",
    "    query='insert into mobile values(%s,%s,%s,%s,%s,%s,%s,%s,%s,%s,%s,%s,%s,%s,%s)'\n",
    "    cursor.execute(query,val)\n",
    "    con.commit()"
   ]
  },
  {
   "cell_type": "code",
   "execution_count": null,
   "metadata": {},
   "outputs": [
    {
     "name": "stdout",
     "output_type": "stream",
     "text": [
      "     SR_NO  BRAND                   MODEL     REVIEW  RATINGS   PRICE  CAMERA  \\\n",
      "0        1  apple                iphoneGS       good      4.5   12560       3   \n",
      "1        2  apple                iphoneXR  very good      4.5   41699      12   \n",
      "2        3  apple               iphone 6+       fair      4.5   18499       8   \n",
      "3        4  apple               iphone 11  very good      4.6  40,999      12   \n",
      "4        5  apple               iphone 12       good      4.6   53999      12   \n",
      "..     ...    ...                     ...        ...      ...     ...     ...   \n",
      "192    193    zte           axon 50 ultra       good      4.0   69990      64   \n",
      "193    194    zte         nubia Z50 ultra       fair      3.4   47290      64   \n",
      "194    195    zte               blade V40       good      3.9   15990      48   \n",
      "195    196    zte  nubia red magic 8 pro+       good      4.3   61647      50   \n",
      "196    197    zte          blade v41 vita       good      4.0   20999      50   \n",
      "\n",
      "    DISPLAY  DISPLAY SIZE  STORAGE   RAM         OS        COLOUR  BATTERY  \\\n",
      "0       LCD          3.50     32.0   8.0   ios6.1.3         black   1400.0   \n",
      "1       LCD          6.06     64.0   3.0        ios          blue   2942.0   \n",
      "2       LCD          4.70     64.0   1.0       ios8          grey   1810.0   \n",
      "3       LCD          6.10     64.0   4.0      iod13        purple   3110.0   \n",
      "4      OLED          6.10     64.0   4.0     ios 14        purple   2815.0   \n",
      "..      ...           ...      ...   ...        ...           ...      ...   \n",
      "192  AMOLED          6.67    256.0  12.0  android12         black   5000.0   \n",
      "193  AMOLED          6.80    256.0   8.0  android13    starry sky   5000.0   \n",
      "194  AMOLED          6.67    256.0   6.0  android12          blue   6000.0   \n",
      "195  AMOLED          6.80    128.0  12.0  android13   transparent   5000.0   \n",
      "196  AMOLED          6.60    128.0   6.0  android12  starry night   4500.0   \n",
      "\n",
      "      ORIGIN  \n",
      "0    Germany  \n",
      "1     Taiwan  \n",
      "2      India  \n",
      "3      India  \n",
      "4         US  \n",
      "..       ...  \n",
      "192    China  \n",
      "193    China  \n",
      "194    China  \n",
      "195    China  \n",
      "196    China  \n",
      "\n",
      "[197 rows x 15 columns]\n",
      "enter row index1\n",
      "enter limiting row index(last wont count): 3\n",
      "enter column label: BRAND\n",
      "enter limiting column label: STORAGE\n",
      "   BRAND      MODEL     REVIEW  RATINGS   PRICE  CAMERA DISPLAY  DISPLAY SIZE  \\\n",
      "1  apple   iphoneXR  very good      4.5   41699      12     LCD          6.06   \n",
      "2  apple  iphone 6+       fair      4.5   18499       8     LCD          4.70   \n",
      "3  apple  iphone 11  very good      4.6  40,999      12     LCD          6.10   \n",
      "\n",
      "   STORAGE  \n",
      "1     64.0  \n",
      "2     64.0  \n",
      "3     64.0  \n",
      "Index(['SR_NO', 'BRAND', 'MODEL', 'REVIEW', 'RATINGS', 'PRICE', 'CAMERA',\n",
      "       'DISPLAY', 'DISPLAY SIZE', 'STORAGE', 'RAM', 'OS', 'COLOUR', 'BATTERY',\n",
      "       'ORIGIN'],\n",
      "      dtype='object')\n",
      "None\n"
     ]
    }
   ],
   "source": [
    "import pandas as pd\n",
    "mobile=pd.read_csv('C:\\\\Users\\\\arpit_72tw24v\\\\OneDrive\\\\Documents\\\\mobile.csv')\n",
    "print(mobile)\n",
    "mobile=pd.read_csv('C:\\\\Users\\\\arpit_72tw24v\\\\OneDrive\\\\Documents\\\\mobile.csv')\n",
    "r=int(input('enter row index'))\n",
    "rl=int(input('enter limiting row index(last wont count): '))\n",
    "c=input('enter column label: ')\n",
    "cl=input('enter limiting column label: ')\n",
    "print(mobile.loc[r:rl,c:cl])\n",
    "mobile=pd.read_csv('C:\\\\Users\\\\arpit_72tw24v\\\\OneDrive\\\\Documents\\\\mobile.csv')\n",
    "print(mobile.columns)\n",
    "\n",
    "print(mobile.sort_values(by='PRICE', ascending=False, inplace=True))\n",
    "r=input('enter row label: ')\n",
    "rl=input('enter limiting row label: ')\n",
    "c=input('enter column label: ')\n",
    "cl=input('enter limiting column label: ')\n",
    "print(mobile.loc[r:rl,c:cl])\n",
    "print(mobile.loc[0:10,:])"
   ]
  },
  {
   "cell_type": "code",
   "execution_count": null,
   "metadata": {},
   "outputs": [],
   "source": []
  }
 ],
 "metadata": {
  "kernelspec": {
   "display_name": "Python 3 (ipykernel)",
   "language": "python",
   "name": "python3"
  },
  "language_info": {
   "codemirror_mode": {
    "name": "ipython",
    "version": 3
   },
   "file_extension": ".py",
   "mimetype": "text/x-python",
   "name": "python",
   "nbconvert_exporter": "python",
   "pygments_lexer": "ipython3",
   "version": "3.10.9"
  }
 },
 "nbformat": 4,
 "nbformat_minor": 2
}
